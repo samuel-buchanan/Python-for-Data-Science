{
 "cells": [
  {
   "cell_type": "markdown",
   "metadata": {},
   "source": [
    "# MSDS 430 Module 2 Python Assignment"
   ]
  },
  {
   "cell_type": "markdown",
   "metadata": {},
   "source": [
    "#### In this assignment you will complete the following exercises and submit your notebook (ipynb file) and html file to Canvas. Your file should include all output, i.e. run each cell and save your file before submitting."
   ]
  },
  {
   "cell_type": "markdown",
   "metadata": {},
   "source": [
    "<font color=blue> This week you are starting to learn how to write short programs in Python beyond \"Hello World!\" and about different data types such as integers, floats, strings, and Boolean types. Each of these data types serves different purposes. So, start working with these data types and get your feet wet with conditional statements. Conditionals are very useful in programming.   </font>"
   ]
  },
  {
   "cell_type": "markdown",
   "metadata": {},
   "source": [
    "Problem 1: Convert the sum of 6.5 and 1.3 to both an integer and a string."
   ]
  },
  {
   "cell_type": "code",
   "execution_count": 53,
   "metadata": {},
   "outputs": [
    {
     "name": "stdout",
     "output_type": "stream",
     "text": [
      "7\n"
     ]
    },
    {
     "data": {
      "text/plain": [
       "'7.8'"
      ]
     },
     "execution_count": 53,
     "metadata": {},
     "output_type": "execute_result"
    }
   ],
   "source": [
    "x = 6.5\n",
    "y = 1.3\n",
    "print(int(x + y))\n",
    "str(x + y)"
   ]
  },
  {
   "cell_type": "markdown",
   "metadata": {},
   "source": [
    "Problem 2: Use **all five** mathematical operators (`+` `-` `*` `/` `**`) in a **single expression** to produce the number 3."
   ]
  },
  {
   "cell_type": "code",
   "execution_count": 54,
   "metadata": {},
   "outputs": [
    {
     "data": {
      "text/plain": [
       "3.0"
      ]
     },
     "execution_count": 54,
     "metadata": {},
     "output_type": "execute_result"
    }
   ],
   "source": [
    "(3**((1+5)/(6-4)))*(1/9)"
   ]
  },
  {
   "cell_type": "markdown",
   "metadata": {},
   "source": [
    "Problem 3: Write a program that asks for two numbers, then prints two sentences displaying the sum and product of those numbers,respectively. More specifically, the program should display the prompt `Enter a number: ` and then wait for input. After the input follow by pressing the `enter` key, the program prompts to enter the second number in a similar fashion. <br>  <br>Here's a sample of what this should look like to the user:\n",
    "\n",
    "`Enter any number: `5<br>\n",
    "`Enter a second number: `123 <br> \n",
    "`The sum of 5 and 123 is 128.`<br>\n",
    "`The product of 5 and 123 is 615.`"
   ]
  },
  {
   "cell_type": "code",
   "execution_count": 17,
   "metadata": {},
   "outputs": [
    {
     "name": "stdout",
     "output_type": "stream",
     "text": [
      "Gimme a number: 2568\n",
      "Gimme another number: 1245\n",
      "The sum of 2568 and 1245 is 3813.\n",
      "The product of 2568 and 1245 is 3197160.\n"
     ]
    }
   ],
   "source": [
    "first_number = input(\"Gimme a number: \")\n",
    "second_number = input(\"Gimme another number: \")\n",
    "one = int(first_number)\n",
    "two = int(second_number)\n",
    "three = one + two\n",
    "four = one * two\n",
    "print(\"The sum of {} and {} is {}.\".format(one, two, three))\n",
    "print(\"The product of {} and {} is {}.\".format(one, two, four))"
   ]
  },
  {
   "cell_type": "markdown",
   "metadata": {},
   "source": [
    "Problem 4: Write a program that asks for a number then returns whether the number is a multiple of 5 or not. Here's a sample of what this should look like:\n",
    "\n",
    "`Enter any number: `319<br>\n",
    "`319 is not a multiple of 5.`"
   ]
  },
  {
   "cell_type": "code",
   "execution_count": 23,
   "metadata": {},
   "outputs": [
    {
     "name": "stdout",
     "output_type": "stream",
     "text": [
      "Gimme a number: 22\n",
      "22 is not a multiple of 5\n"
     ]
    }
   ],
   "source": [
    "initial_input = input(\"Gimme a number: \")\n",
    "number = int(initial_input)\n",
    "if (number % 5) == 0:\n",
    "    print(\"{} is a multiple of 5.\".format(number))\n",
    "else: print(\"{} is not a multiple of 5\".format(number))"
   ]
  },
  {
   "cell_type": "markdown",
   "metadata": {},
   "source": [
    "Problem 5: Write a program to assign Boolean values to variables `P` and `Q` and evaluate `not P or Q`. Choose the appropriate truth values for `P` and `Q` so that the expression evaluates to `True`."
   ]
  },
  {
   "cell_type": "code",
   "execution_count": 6,
   "metadata": {},
   "outputs": [
    {
     "data": {
      "text/plain": [
       "True"
      ]
     },
     "execution_count": 6,
     "metadata": {},
     "output_type": "execute_result"
    }
   ],
   "source": [
    "P = False\n",
    "Q = False\n",
    "not P or Q"
   ]
  },
  {
   "cell_type": "markdown",
   "metadata": {},
   "source": [
    "Problem 6: Jake is looking for a job but has some conditions. He would love a job in Hawaii and would accept it if it pays more than 40,000 per year. He does not like New York but would take a job if it pays more than 100,000 per year. He would work anywhere else if it pays more than 60,000. Write a program that prompts to enter two input values, `location` and `pay`, and returns \n",
    "\n",
    "(1) \"I'll take it!\" if they entered Hawaii and more than 40000, New York and more than 100000, or anywhere else with pay more than 60000, for the `location` and `pay`, respectively, or  <br> \n",
    "(2) \"No way.\" if the user enters Hawaii and less than 40000 or New York and less than 100000, for the `location` and `pay`, respectively, or <br> \n",
    "(3) \"No thanks, I can find something better.\" if the `location` is anywhere else and the `pay` is less than 60000."
   ]
  },
  {
   "cell_type": "code",
   "execution_count": 52,
   "metadata": {},
   "outputs": [
    {
     "name": "stdout",
     "output_type": "stream",
     "text": [
      "Where is the job located: Houston\n",
      "How much does it pay: 4352435245\n",
      "I'll take it!\n"
     ]
    }
   ],
   "source": [
    "location = input(\"Where is the job located: \")\n",
    "initial_pay = input(\"How much does it pay: \")\n",
    "pay = int(initial_pay)\n",
    "\n",
    "if ((location == \"Hawaii\") and (pay > 40000)) or ((location == \"New York\") and (pay > 100000)):\n",
    "    print(\"I'll take it!\")\n",
    "elif ((location == \"Hawaii\") and (pay < 40000)) or ((location == \"New York\") and (pay < 60000)):\n",
    "    print(\"No way.\")\n",
    "elif (pay < 60000):\n",
    "    print(\"No thanks, I can find something better.\")\n",
    "elif (pay > 60000):\n",
    "    print(\"I'll take it!\")"
   ]
  }
 ],
 "metadata": {
  "kernelspec": {
   "display_name": "Python 3",
   "language": "python",
   "name": "python3"
  },
  "language_info": {
   "codemirror_mode": {
    "name": "ipython",
    "version": 3
   },
   "file_extension": ".py",
   "mimetype": "text/x-python",
   "name": "python",
   "nbconvert_exporter": "python",
   "pygments_lexer": "ipython3",
   "version": "3.7.3"
  }
 },
 "nbformat": 4,
 "nbformat_minor": 2
}
